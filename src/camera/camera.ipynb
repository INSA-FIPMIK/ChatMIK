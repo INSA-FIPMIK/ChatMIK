{
 "cells": [
  {
   "cell_type": "code",
   "execution_count": 1,
   "id": "b911f21d",
   "metadata": {},
   "outputs": [
    {
     "name": "stdout",
     "output_type": "stream",
     "text": [
      "Closing window.\n"
     ]
    },
    {
     "name": "stderr",
     "output_type": "stream",
     "text": [
      "Exception in thread Thread-4:\n",
      "Traceback (most recent call last):\n",
      "  File \"/usr/lib/python3.6/threading.py\", line 916, in _bootstrap_inner\n",
      "    self.run()\n",
      "  File \"/usr/lib/python3.6/threading.py\", line 864, in run\n",
      "    self._target(*self._args, **self._kwargs)\n",
      "  File \"/usr/local/lib/python3.6/dist-packages/jetcam-0.0.0-py3.6.egg/jetcam/camera.py\", line 34, in _capture_frames\n",
      "    self.value = self._read()\n",
      "  File \"/usr/local/lib/python3.6/dist-packages/jetcam-0.0.0-py3.6.egg/jetcam/csi_camera.py\", line 40, in _read\n",
      "    raise RuntimeError('Could not read image from camera')\n",
      "RuntimeError: Could not read image from camera\n",
      "\n"
     ]
    }
   ],
   "source": [
    "from jetcam.csi_camera import CSICamera\n",
    "from jetcam.utils import bgr8_to_jpeg\n",
    "\n",
    "WIDTH=1080\n",
    "HEIGHT=720\n",
    "camera = CSICamera(width=WIDTH, height=HEIGHT, capture_fps=12)\n",
    "camera.running=True\n",
    "\n",
    "\n",
    "\n",
    "\n",
    "\n",
    "camera.observe(execute, names='value')"
   ]
  },
  {
   "cell_type": "code",
   "execution_count": 2,
   "id": "fdbb380b",
   "metadata": {},
   "outputs": [],
   "source": [
    "# Create window\n",
    "import cv2\n",
    "cv2.namedWindow('TEST', cv2.WINDOW_AUTOSIZE)\n",
    "\n",
    "#Mouse callback function to be executed when a mouse event take place (double click)\n",
    "def mouse_click (event,x,y,flags,param):\n",
    "    if event == cv2.EVENT_LBUTTONDBLCLK:\n",
    "        camera.unobserve_all()\n",
    "        cv2.destroyAllWindows()\n",
    "        cv2.waitKey(1)\n",
    "        print (\"Closing window.\")\n",
    "        #Close camera\n",
    "        camera.running = False\n",
    "        camera.cap.release()\n",
    "        time.sleep(3)\n",
    "\n",
    "cv2.setMouseCallback('TEST', mouse_click)"
   ]
  },
  {
   "cell_type": "code",
   "execution_count": null,
   "id": "c99bb570",
   "metadata": {},
   "outputs": [],
   "source": []
  }
 ],
 "metadata": {
  "kernelspec": {
   "display_name": "Python 3",
   "language": "python",
   "name": "python3"
  },
  "language_info": {
   "codemirror_mode": {
    "name": "ipython",
    "version": 3
   },
   "file_extension": ".py",
   "mimetype": "text/x-python",
   "name": "python",
   "nbconvert_exporter": "python",
   "pygments_lexer": "ipython3",
   "version": "3.6.9"
  }
 },
 "nbformat": 4,
 "nbformat_minor": 5
}
