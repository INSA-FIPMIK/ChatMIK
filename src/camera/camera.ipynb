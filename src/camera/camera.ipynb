{
 "cells": [
  {
   "cell_type": "code",
   "execution_count": null,
   "id": "a0ea9e7a",
   "metadata": {},
   "outputs": [],
   "source": [
    "from jetcam.csi_camera import CSICamera\n",
    "from jetcam.utils import bgr8_to_jpeg\n",
    "\n",
    "WIDTH=1080\n",
    "HEIGHT=720\n",
    "camera = CSICamera(width=WIDTH, height=HEIGHT, capture_fps=12)\n",
    "camera.running=True"
   ]
  },
  {
   "cell_type": "code",
   "execution_count": null,
   "id": "d1ee8ff6",
   "metadata": {},
   "outputs": [],
   "source": [
    "# Create window\n",
    "import cv2\n",
    "import time\n",
    "cv2.namedWindow('TEST', cv2.WINDOW_AUTOSIZE)\n",
    "\n",
    "#Mouse callback function to be executed when a mouse event take place (double click)\n",
    "def mouse_click (event,x,y,flags,param):\n",
    "    if event == cv2.EVENT_LBUTTONDBLCLK:\n",
    "        camera.unobserve_all()\n",
    "        cv2.destroyAllWindows()\n",
    "        cv2.waitKey(1)\n",
    "        print (\"Closing window.\")\n",
    "        #Close camera\n",
    "        camera.running = False\n",
    "        camera.cap.release()\n",
    "        time.sleep(3)\n",
    "\n",
    "cv2.setMouseCallback('TEST', mouse_click)"
   ]
  },
  {
   "cell_type": "code",
   "execution_count": null,
   "id": "abac3da6",
   "metadata": {},
   "outputs": [],
   "source": [
    "#Main function\n",
    "def execute(change):\n",
    "    image = change['new']\n",
    "    ###\n",
    "    # process\n",
    "    ###\n",
    "    cv2.imshow('TEST', image)\n",
    "    if cv2.waitKey(1) & 0xFF == ord('q'):\n",
    "        pass"
   ]
  },
  {
   "cell_type": "code",
   "execution_count": null,
   "id": "322ea9df",
   "metadata": {},
   "outputs": [],
   "source": [
    "camera.observe(execute, names='value')"
   ]
  },
  {
   "cell_type": "code",
   "execution_count": null,
   "id": "b1356a8c",
   "metadata": {},
   "outputs": [],
   "source": []
  }
 ],
 "metadata": {
  "kernelspec": {
   "display_name": "Python 3",
   "language": "python",
   "name": "python3"
  },
  "language_info": {
   "codemirror_mode": {
    "name": "ipython",
    "version": 3
   },
   "file_extension": ".py",
   "mimetype": "text/x-python",
   "name": "python",
   "nbconvert_exporter": "python",
   "pygments_lexer": "ipython3",
   "version": "3.6.9"
  }
 },
 "nbformat": 4,
 "nbformat_minor": 5
}
